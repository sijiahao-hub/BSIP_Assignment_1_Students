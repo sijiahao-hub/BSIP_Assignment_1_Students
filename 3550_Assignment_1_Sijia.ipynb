{
  "nbformat": 4,
  "nbformat_minor": 0,
  "metadata": {
    "colab": {
      "provenance": [],
      "authorship_tag": "ABX9TyN0qgggwKSkcmOTQoIrK+We",
      "include_colab_link": true
    },
    "kernelspec": {
      "name": "python3",
      "display_name": "Python 3"
    },
    "language_info": {
      "name": "python"
    }
  },
  "cells": [
    {
      "cell_type": "markdown",
      "metadata": {
        "id": "view-in-github",
        "colab_type": "text"
      },
      "source": [
        "<a href=\"https://colab.research.google.com/github/sijiahao-hub/BSIP_Assignment_1_Students/blob/main/3550_Assignment_1_Sijia.ipynb\" target=\"_parent\"><img src=\"https://colab.research.google.com/assets/colab-badge.svg\" alt=\"Open In Colab\"/></a>"
      ]
    },
    {
      "cell_type": "markdown",
      "source": [
        "Assignment 1\n",
        "1. Calories Burned During A Workout\n",
        "The following equations estimate the calories burned when exercising (source):\n",
        "Women: Calories = ( (Age x 0.074) — (Weight x 0.05741) + (Heart Rate x 0.4472) — 20.4022 ) x Time / 4.184\n",
        "Men: Calories = ( (Age x 0.2017) + (Weight x 0.09036) + (Heart Rate x 0.6309) — 55.0969 ) x Time / 4.184\n",
        "Write a program using inputs age (years), weight (pounds), heart rate (beats per minute), and time (minutes), respectively. Output calories burned for women and men.\n",
        "Output each floating-point value with two digits after the decimal point.\n"
      ],
      "metadata": {
        "id": "q-CwCLGUomzD"
      }
    },
    {
      "cell_type": "code",
      "execution_count": null,
      "metadata": {
        "id": "1LLHaWB0olW4"
      },
      "outputs": [],
      "source": []
    },
    {
      "cell_type": "markdown",
      "source": [
        "2. Simple statistics\n",
        "You are given 4 floating-point numbers. Use a string formatting expression with conversion specifiers to output their product and their average as integers (rounded) and floating-point numbers.\n",
        "Output each rounded integer using the following: print('{:.0f}'.format(your_value))\n",
        "Output each floating-point value with three digits after the decimal point, which can be achieved as follows:\n",
        "print('{:.3f}'.format(your_value))\n",
        "pg. 1\n",
        "v1.0\n"
      ],
      "metadata": {
        "id": "vHg-wv4Bow0k"
      }
    },
    {
      "cell_type": "code",
      "source": [],
      "metadata": {
        "id": "J_wM1xtYowHU"
      },
      "execution_count": null,
      "outputs": []
    },
    {
      "cell_type": "markdown",
      "source": [
        "3. Seasons\n",
        "Write a program that takes a date as input and outputs the date's season. The input is a string to represent the month and an int to represent the day. In addition, check if the string and int are valid (an actual month and day).\n",
        "The dates for each season are:\n",
        "Spring: March 20 - June 20\n",
        "Summer: June 21 - September 21\n",
        "Autumn: September 22 - December 20\n",
        "Winter: December 21 - March 19\n"
      ],
      "metadata": {
        "id": "v_4oVKyuo1jF"
      }
    },
    {
      "cell_type": "markdown",
      "source": [
        "4. Printstringinreverse\n",
        "Write a program that takes in a line of text as input, and outputs that line of text in reverse. The program\n",
        "repeats, ending when the user enters \"Done\", \"done\", or \"d\" for the line of text.\n"
      ],
      "metadata": {
        "id": "WWLsv3-Uo4Ti"
      }
    },
    {
      "cell_type": "markdown",
      "source": [
        "5. Step counter\n",
        "A pedometer treats walking 2,000 steps as walking 1 mile. Write a program whose input is the number of steps and whose output is the miles walked. Your program must define and call the following function. The function should return the number of miles walked."
      ],
      "metadata": {
        "id": "jWqFPWzxo65W"
      }
    }
  ]
}