{
 "cells": [
  {
   "cell_type": "code",
   "execution_count": 1,
   "metadata": {},
   "outputs": [],
   "source": [
    "import thinkplot\n",
    "import thinkstats2\n",
    "import pandas as pd\n",
    "import numpy as np\n",
    "import scipy\n",
    "import seaborn as sns\n",
    "from matplotlib import pyplot as plt"
   ]
  },
  {
   "cell_type": "markdown",
   "metadata": {},
   "source": [
    "# Assignment #1 - Basic Data Exploration in Python\n",
    "\n",
    "## Assignment Overview\n",
    "\n",
    "In this assignment you'll load some data into a python notebook, and use some basic functions to do some basic analysis. Each section asks you to either calculate some answers or explore some information found in the data. When generating your answers, try to think about a few factors that can make your code better:\n",
    "<ul>\n",
    "<li> Present the answers clearly. Use the markdown cells, code comments, and formatting to help make your answers readable. One of the features of notebooks is that they allow us to combine code and commentary, and we need to ensure both are readable. Refer to the guide in the guides folder of the exercises workbook for an explaination and examples of different formatting. \n",
    "<li> Make your code clear. It is easy to make sense of small pieces of code, for short periods of time, so if your code makes little sense here, it won't really hurt your ability to find the answers. If you need to come back to it later, or others need to edit it, having code that doesn't make sense is a big issue. Use things like clearly named variables, comments, and spacing to make things readable. Even in this course, if you are looking back to something from 2 months ago for the project, it is far easier to understand code that is cleaned up a little. \n",
    "<li> Structure the code well. If there is some kind of repetitive task, it should likely be moved into a function. If there is something that happens several times, it should be in a loop. Having well structured code makes it easy to reuse stuff later, understand how things work, debug errors, and share code with others. This is something to keep in the back of your minds, right now you may not have much experience to lean on to judge how things should be, as you read, adjust, and write code it will become more clear. \n",
    "</ul>\n",
    "\n",
    "## Peer Evaluation\n",
    "\n",
    "This assignemnt will have a peer evaluation for the grade - you'll each read some other notebooks and evaluate their answers. The reason for this is not (entirely) my personal laziness, we are hoping to accomplish a couple of things:\n",
    "<ul>\n",
    "<li> Quick experience reading notebooks. One of the important skills we need to have is the ability to read examples that we find and adapting it to our scenario. This is practice with data you're now comfortable with.\n",
    "<li> Critically evaluating what makes sense in a data notebook. You know how you attempted to explain your look at the data, how did other people do it? What was better? What was worse?\n",
    "<li> Design is subjective. This will give you a set of opinions that are not mine. You will end up with plenty of feedback of what I think, feadback of others early-on should hopefully help you make things appealing to all and not tailored to me. \n",
    "</ul>\n",
    "Doing this right up front will hopefully help kickstart some of that expericence. \n",
    "\n",
    "### Grading\n",
    "\n",
    "The detailed grading is defined in the marking guide in the Moodle workshop. Note that there's points both for getting a correct answer and for presenting it in a way that makes sense. \n",
    "\n",
    "## Structure\n",
    "\n",
    "Each section contains a set of questions/prompts and a rough framework for your responses. You can change the structure around, just make sure it is readable. What I have there is just a loose guide to help get you started, you're not bound to it. "
   ]
  },
  {
   "cell_type": "markdown",
   "metadata": {},
   "source": [
    "## Load Data\n",
    "\n",
    "Load the labor data into a dataframe. You probably don't want to change this section. "
   ]
  },
  {
   "cell_type": "code",
   "execution_count": 2,
   "metadata": {},
   "outputs": [
    {
     "data": {
      "text/html": [
       "<div>\n",
       "<style scoped>\n",
       "    .dataframe tbody tr th:only-of-type {\n",
       "        vertical-align: middle;\n",
       "    }\n",
       "\n",
       "    .dataframe tbody tr th {\n",
       "        vertical-align: top;\n",
       "    }\n",
       "\n",
       "    .dataframe thead th {\n",
       "        text-align: right;\n",
       "    }\n",
       "</style>\n",
       "<table border=\"1\" class=\"dataframe\">\n",
       "  <thead>\n",
       "    <tr style=\"text-align: right;\">\n",
       "      <th></th>\n",
       "      <th>Age</th>\n",
       "      <th>Eduacation</th>\n",
       "      <th>Race</th>\n",
       "      <th>Hisp</th>\n",
       "      <th>MaritalStatus</th>\n",
       "      <th>Nodeg</th>\n",
       "      <th>Earnings_1974</th>\n",
       "      <th>Earnings_1975</th>\n",
       "      <th>Earnings_1978</th>\n",
       "    </tr>\n",
       "  </thead>\n",
       "  <tbody>\n",
       "    <tr>\n",
       "      <th>0</th>\n",
       "      <td>45</td>\n",
       "      <td>LessThanHighSchool</td>\n",
       "      <td>NotBlack</td>\n",
       "      <td>NotHispanic</td>\n",
       "      <td>Married</td>\n",
       "      <td>1</td>\n",
       "      <td>21516.670</td>\n",
       "      <td>25243.550</td>\n",
       "      <td>25564.670</td>\n",
       "    </tr>\n",
       "    <tr>\n",
       "      <th>1</th>\n",
       "      <td>21</td>\n",
       "      <td>Intermediate</td>\n",
       "      <td>NotBlack</td>\n",
       "      <td>NotHispanic</td>\n",
       "      <td>NotMarried</td>\n",
       "      <td>0</td>\n",
       "      <td>3175.971</td>\n",
       "      <td>5852.565</td>\n",
       "      <td>13496.080</td>\n",
       "    </tr>\n",
       "    <tr>\n",
       "      <th>2</th>\n",
       "      <td>38</td>\n",
       "      <td>HighSchool</td>\n",
       "      <td>NotBlack</td>\n",
       "      <td>NotHispanic</td>\n",
       "      <td>Married</td>\n",
       "      <td>0</td>\n",
       "      <td>23039.020</td>\n",
       "      <td>25130.760</td>\n",
       "      <td>25564.670</td>\n",
       "    </tr>\n",
       "    <tr>\n",
       "      <th>3</th>\n",
       "      <td>48</td>\n",
       "      <td>LessThanHighSchool</td>\n",
       "      <td>NotBlack</td>\n",
       "      <td>NotHispanic</td>\n",
       "      <td>Married</td>\n",
       "      <td>1</td>\n",
       "      <td>24994.370</td>\n",
       "      <td>25243.550</td>\n",
       "      <td>25564.670</td>\n",
       "    </tr>\n",
       "    <tr>\n",
       "      <th>4</th>\n",
       "      <td>18</td>\n",
       "      <td>LessThanHighSchool</td>\n",
       "      <td>NotBlack</td>\n",
       "      <td>NotHispanic</td>\n",
       "      <td>Married</td>\n",
       "      <td>1</td>\n",
       "      <td>1669.295</td>\n",
       "      <td>10727.610</td>\n",
       "      <td>9860.869</td>\n",
       "    </tr>\n",
       "  </tbody>\n",
       "</table>\n",
       "</div>"
      ],
      "text/plain": [
       "   Age          Eduacation      Race         Hisp MaritalStatus  Nodeg  \\\n",
       "0   45  LessThanHighSchool  NotBlack  NotHispanic       Married      1   \n",
       "1   21        Intermediate  NotBlack  NotHispanic    NotMarried      0   \n",
       "2   38          HighSchool  NotBlack  NotHispanic       Married      0   \n",
       "3   48  LessThanHighSchool  NotBlack  NotHispanic       Married      1   \n",
       "4   18  LessThanHighSchool  NotBlack  NotHispanic       Married      1   \n",
       "\n",
       "   Earnings_1974  Earnings_1975  Earnings_1978  \n",
       "0      21516.670      25243.550      25564.670  \n",
       "1       3175.971       5852.565      13496.080  \n",
       "2      23039.020      25130.760      25564.670  \n",
       "3      24994.370      25243.550      25564.670  \n",
       "4       1669.295      10727.610       9860.869  "
      ]
     },
     "execution_count": 2,
     "metadata": {},
     "output_type": "execute_result"
    }
   ],
   "source": [
    "#Load/preview data\n",
    "df = pd.read_csv(\"LabourTrainingEvaluationData.csv\")\n",
    "df.head()"
   ]
  },
  {
   "cell_type": "code",
   "execution_count": 3,
   "metadata": {},
   "outputs": [
    {
     "data": {
      "text/html": [
       "<div>\n",
       "<style scoped>\n",
       "    .dataframe tbody tr th:only-of-type {\n",
       "        vertical-align: middle;\n",
       "    }\n",
       "\n",
       "    .dataframe tbody tr th {\n",
       "        vertical-align: top;\n",
       "    }\n",
       "\n",
       "    .dataframe thead th {\n",
       "        text-align: right;\n",
       "    }\n",
       "</style>\n",
       "<table border=\"1\" class=\"dataframe\">\n",
       "  <thead>\n",
       "    <tr style=\"text-align: right;\">\n",
       "      <th></th>\n",
       "      <th>Age</th>\n",
       "      <th>Nodeg</th>\n",
       "      <th>Earnings_1974</th>\n",
       "      <th>Earnings_1975</th>\n",
       "      <th>Earnings_1978</th>\n",
       "    </tr>\n",
       "  </thead>\n",
       "  <tbody>\n",
       "    <tr>\n",
       "      <th>count</th>\n",
       "      <td>15992.000000</td>\n",
       "      <td>15992.000000</td>\n",
       "      <td>15992.000000</td>\n",
       "      <td>15992.000000</td>\n",
       "      <td>15992.000000</td>\n",
       "    </tr>\n",
       "    <tr>\n",
       "      <th>mean</th>\n",
       "      <td>33.225238</td>\n",
       "      <td>0.295835</td>\n",
       "      <td>14016.800304</td>\n",
       "      <td>13650.803376</td>\n",
       "      <td>14846.659673</td>\n",
       "    </tr>\n",
       "    <tr>\n",
       "      <th>std</th>\n",
       "      <td>11.045216</td>\n",
       "      <td>0.456432</td>\n",
       "      <td>9569.795893</td>\n",
       "      <td>9270.403225</td>\n",
       "      <td>9647.391524</td>\n",
       "    </tr>\n",
       "    <tr>\n",
       "      <th>min</th>\n",
       "      <td>16.000000</td>\n",
       "      <td>0.000000</td>\n",
       "      <td>0.000000</td>\n",
       "      <td>0.000000</td>\n",
       "      <td>0.000000</td>\n",
       "    </tr>\n",
       "    <tr>\n",
       "      <th>25%</th>\n",
       "      <td>24.000000</td>\n",
       "      <td>0.000000</td>\n",
       "      <td>4403.452250</td>\n",
       "      <td>4398.823000</td>\n",
       "      <td>5669.298000</td>\n",
       "    </tr>\n",
       "    <tr>\n",
       "      <th>50%</th>\n",
       "      <td>31.000000</td>\n",
       "      <td>0.000000</td>\n",
       "      <td>15123.580000</td>\n",
       "      <td>14557.110000</td>\n",
       "      <td>16421.975000</td>\n",
       "    </tr>\n",
       "    <tr>\n",
       "      <th>75%</th>\n",
       "      <td>42.000000</td>\n",
       "      <td>1.000000</td>\n",
       "      <td>23584.180000</td>\n",
       "      <td>22923.737500</td>\n",
       "      <td>25564.670000</td>\n",
       "    </tr>\n",
       "    <tr>\n",
       "      <th>max</th>\n",
       "      <td>55.000000</td>\n",
       "      <td>1.000000</td>\n",
       "      <td>25862.320000</td>\n",
       "      <td>25243.550000</td>\n",
       "      <td>25564.670000</td>\n",
       "    </tr>\n",
       "  </tbody>\n",
       "</table>\n",
       "</div>"
      ],
      "text/plain": [
       "                Age         Nodeg  Earnings_1974  Earnings_1975  Earnings_1978\n",
       "count  15992.000000  15992.000000   15992.000000   15992.000000   15992.000000\n",
       "mean      33.225238      0.295835   14016.800304   13650.803376   14846.659673\n",
       "std       11.045216      0.456432    9569.795893    9270.403225    9647.391524\n",
       "min       16.000000      0.000000       0.000000       0.000000       0.000000\n",
       "25%       24.000000      0.000000    4403.452250    4398.823000    5669.298000\n",
       "50%       31.000000      0.000000   15123.580000   14557.110000   16421.975000\n",
       "75%       42.000000      1.000000   23584.180000   22923.737500   25564.670000\n",
       "max       55.000000      1.000000   25862.320000   25243.550000   25564.670000"
      ]
     },
     "execution_count": 3,
     "metadata": {},
     "output_type": "execute_result"
    }
   ],
   "source": [
    "df.describe()"
   ]
  },
  {
   "cell_type": "markdown",
   "metadata": {},
   "source": [
    "## Part 1 - Age\n",
    "\n",
    "<ol>\n",
    "<li> Make and plot a Hist and Pmf for age.\n",
    "<li> What fraction of the people in the data are 51? What fraction are older than 51?\n",
    "<li> What is the median age? \n",
    "<li> Does the distribution of the sample data seem to mirror the working age population?\n",
    "</ol>"
   ]
  },
  {
   "cell_type": "markdown",
   "metadata": {},
   "source": [
    "#### Make and plot a Hist and Pmf for age."
   ]
  },
  {
   "cell_type": "code",
   "execution_count": 4,
   "metadata": {},
   "outputs": [
    {
     "data": {
      "text/plain": [
       "count    15992.000000\n",
       "mean        33.225238\n",
       "std         11.045216\n",
       "min         16.000000\n",
       "25%         24.000000\n",
       "50%         31.000000\n",
       "75%         42.000000\n",
       "max         55.000000\n",
       "Name: Age, dtype: float64"
      ]
     },
     "execution_count": 4,
     "metadata": {},
     "output_type": "execute_result"
    }
   ],
   "source": [
    "df[\"Age\"].describe()"
   ]
  },
  {
   "cell_type": "code",
   "execution_count": 5,
   "metadata": {},
   "outputs": [
    {
     "data": {
      "text/plain": [
       "Hist({29: 660, 28: 649, 27: 584, 26: 583, 25: 547, 24: 523, 21: 505, 23: 503, 18: 476, 22: 470, 32: 470, 30: 467, 19: 465, 31: 458, 33: 454, 20: 454, 34: 426, 17: 395, 35: 386, 36: 363, 38: 346, 16: 338, 37: 336, 39: 323, 51: 314, 40: 312, 41: 312, 47: 310, 45: 310, 42: 309, 55: 307, 50: 306, 48: 303, 53: 300, 49: 297, 52: 294, 46: 293, 44: 290, 43: 284, 54: 270}, 'Age')"
      ]
     },
     "execution_count": 5,
     "metadata": {},
     "output_type": "execute_result"
    }
   ],
   "source": [
    "agehist = thinkstats2.Hist(df[\"Age\"], label=\"Age\")\n",
    "agehist"
   ]
  },
  {
   "cell_type": "code",
   "execution_count": 6,
   "metadata": {},
   "outputs": [
    {
     "data": {
      "image/png": "[encoded data removed]",
      "text/plain": [
       "<Figure size 432x288 with 1 Axes>"
      ]
     },
     "metadata": {
      "needs_background": "light"
     },
     "output_type": "display_data"
    }
   ],
   "source": [
    "thinkplot.Hist\n",
    "thinkplot.Hist(agehist)\n",
    "thinkplot.Config(xlabel=\"Age\", ylabel=\"count\")\n",
    "thinkplot.axvline(np.mean(agehist), color=\"red\")\n",
    "thinkplot.axvline(np.median(agehist), color=\"green\")\n",
    "thinkplot.Pmf(agehist, color=\"red\")"
   ]
  },
  {
   "cell_type": "markdown",
   "metadata": {},
   "source": [
    "#### What fraction of the people in the data are 51? What fraction are older than 51?"
   ]
  },
  {
   "cell_type": "code",
   "execution_count": 7,
   "metadata": {},
   "outputs": [
    {
     "name": "stdout",
     "output_type": "stream",
     "text": [
      "Fraction of people at age 51:  1.9635 %\n"
     ]
    }
   ],
   "source": [
    "age = df[\"Age\"]\n",
    "count = 0\n",
    "for age51 in age:\n",
    "    if age51 == 51:\n",
    "        count += 1\n",
    "percentile_rank51 = 100.0 * count / len(age)\n",
    "print(\"Fraction of people at age 51: \", round(percentile_rank51, 4), \"%\")"
   ]
  },
  {
   "cell_type": "code",
   "execution_count": 8,
   "metadata": {},
   "outputs": [
    {
     "name": "stdout",
     "output_type": "stream",
     "text": [
      "Fraction of people over age 51:  7.3224 %\n"
     ]
    }
   ],
   "source": [
    "count = 0\n",
    "for over51 in age:\n",
    "    if over51 > 51:\n",
    "        count += 1\n",
    "percentile_rank_over51 = 100.0 * count / len(age)\n",
    "print(\"Fraction of people over age 51: \", round(percentile_rank_over51, 4), \"%\")"
   ]
  },
  {
   "cell_type": "markdown",
   "metadata": {},
   "source": [
    "##### What is the median age?"
   ]
  },
  {
   "cell_type": "code",
   "execution_count": 9,
   "metadata": {},
   "outputs": [
    {
     "name": "stdout",
     "output_type": "stream",
     "text": [
      "The median age:  31.0\n"
     ]
    }
   ],
   "source": [
    "print(\"The median age: \", df[\"Age\"].median())"
   ]
  },
  {
   "cell_type": "markdown",
   "metadata": {},
   "source": [
    "##### Does the distribution of the sample data seem to mirror the working age population?"
   ]
  },
  {
   "cell_type": "markdown",
   "metadata": {},
   "source": [
    "Yes. The minimum age of the sample is 16, and the maxmum age is 55, which falls in the working age range."
   ]
  },
  {
   "cell_type": "markdown",
   "metadata": {},
   "source": [
    "### Part 2 - Demographics\n",
    "\n",
    "<ul>\n",
    "<li>Consider some of the demographic features: \n",
    "    <ul>\n",
    "    <li>Education\n",
    "    <li>Race\n",
    "    <li>Hisp\n",
    "    <li>MaritalStatus\n",
    "    <li>Nodeg. \n",
    "    </ul>\n",
    "</ul>\n",
    "<ol>\n",
    "<li>This data came from the United States, does it appear to be a representative sample of the US population?\n",
    "<li>Demonstrate this in some way in your code. \n",
    "</ol>\n",
    "\n",
    "##### Exploring the data..."
   ]
  },
  {
   "cell_type": "code",
   "execution_count": 10,
   "metadata": {},
   "outputs": [
    {
     "name": "stdout",
     "output_type": "stream",
     "text": [
      "15992\n"
     ]
    }
   ],
   "source": [
    "df[\"Eduacation\"].value_counts().sort_index()\n",
    "total_Education = 6252+2708+4731+934+1367\n",
    "print(total_Education)\n"
   ]
  },
  {
   "cell_type": "code",
   "execution_count": 11,
   "metadata": {},
   "outputs": [
    {
     "data": {
      "text/plain": [
       "Married       11382\n",
       "NotMarried     4610\n",
       "Name: MaritalStatus, dtype: int64"
      ]
     },
     "execution_count": 11,
     "metadata": {},
     "output_type": "execute_result"
    }
   ],
   "source": [
    "df[\"MaritalStatus\"].value_counts().sort_index()"
   ]
  },
  {
   "cell_type": "code",
   "execution_count": 36,
   "metadata": {},
   "outputs": [
    {
     "data": {
      "text/plain": [
       "0    11261\n",
       "1     4731\n",
       "Name: Nodeg, dtype: int64"
      ]
     },
     "execution_count": 36,
     "metadata": {},
     "output_type": "execute_result"
    }
   ],
   "source": [
    "df[\"Nodeg\"].value_counts().sort_index()\n"
   ]
  },
  {
   "cell_type": "code",
   "execution_count": 40,
   "metadata": {},
   "outputs": [
    {
     "name": "stdout",
     "output_type": "stream",
     "text": [
      "Deg 70.42 %\n"
     ]
    }
   ],
   "source": [
    "print(\"Deg %.2f\" %(11261/(11261+4731)*100), \"%\")"
   ]
  },
  {
   "cell_type": "code",
   "execution_count": 39,
   "metadata": {},
   "outputs": [
    {
     "name": "stdout",
     "output_type": "stream",
     "text": [
      "Hispanic 7.20 %\n"
     ]
    }
   ],
   "source": [
    "df[\"Hisp\"].value_counts().sort_index()\n",
    "Hispanic = 1152/15992\n",
    "print(\"Hispanic %.2f\" %(Hispanic*100),\"%\")"
   ]
  },
  {
   "cell_type": "code",
   "execution_count": 14,
   "metadata": {},
   "outputs": [
    {
     "name": "stdout",
     "output_type": "stream",
     "text": [
      "not black 92.65 %\n"
     ]
    }
   ],
   "source": [
    "df[\"Race\"].value_counts().sort_index()\n",
    "Notblack_ratio = 14816/15992 *100\n",
    "print(\"not black %.2f\" %Notblack_ratio,\"%\")"
   ]
  },
  {
   "cell_type": "markdown",
   "metadata": {},
   "source": [
    "##### Demographic Conclusion\n"
   ]
  },
  {
   "cell_type": "markdown",
   "metadata": {},
   "source": [
    "The Education for the sample is fully educated. It is not ture for the real US population.  \n",
    "Hispanic sample is 7.2% on the total sample count. Based on the reseach on the Census on 1970, the hispanic population was about 9%. According to Statista.com, there is 31.9% of people having degree. In our sample, there are 70.42% people having degree. It is too much of differences. Thus, it is not repersentitive sample for the US population."
   ]
  },
  {
   "cell_type": "markdown",
   "metadata": {},
   "source": [
    "### Part 3 - Earnings\n",
    "\n",
    "<ol>\n",
    "<li>Make and plot a graph or graph of your choosing of the 3 earnings values, in order to answer the below question. Identify how the graph gave you your answer.\n",
    "    <ul>\n",
    "    <li>What is one conclusion could you draw from visualizing of the earnings in the different year? Please express it in plain language/non-statistics terms/as though you were explaining to one of your friends what happened to earnings between 1974 and 1978?\n",
    "    </ul>\n",
    "<li>Which has the greatest effect size on 1978 earnings: Race, Hispanic, MaritalStatus, or Nodeg? \n",
    "    <ul>\n",
    "    <li>What could you investigate further in an attempt to explain this?\n",
    "    </ul>\n",
    "<li>Plot a histogram and PMF, and compute useful descriptive statistics (think: average...) for the 1978 earnings value. Use the \"Cohorts\" code from the quiz to break the data into cohorts, plotting each group (either on one chart, or separately, whichever makes the most sense for examining the data - state specifically why you chose 1 vs many charts.\n",
    "    <ul>\n",
    "    <li>What is the difference in median income between the groups?\n",
    "    <li>Theorize a reason for the difference between the groups that could be explained with more data. Briefly describe the data you'd need. This does not need to be something you have data for, or know how to solve right now - just one well founded hypothesis on what might explain the difference.\n",
    "    </ul>\n",
    "<li>Are there outliers in the 1978 earnings data? Demonstrate this in some way with your code. \n",
    "    <ul>\n",
    "    <li>What can you infer from the presence of outliers that may impact analysis of this data.\n",
    "    </ul>\n",
    "</ol>"
   ]
  },
  {
   "cell_type": "markdown",
   "metadata": {},
   "source": [
    "##### Plot Earnings Data"
   ]
  },
  {
   "cell_type": "code",
   "execution_count": 15,
   "metadata": {},
   "outputs": [
    {
     "data": {
      "text/plain": [
       "0        21516.670\n",
       "1         3175.971\n",
       "2        23039.020\n",
       "3        24994.370\n",
       "4         1669.295\n",
       "           ...    \n",
       "15987     3975.352\n",
       "15988     1445.939\n",
       "15989     1733.951\n",
       "15990    16914.350\n",
       "15991    13628.660\n",
       "Name: Earnings_1974, Length: 15992, dtype: float64"
      ]
     },
     "execution_count": 15,
     "metadata": {},
     "output_type": "execute_result"
    }
   ],
   "source": [
    "earning1974 = df[\"Earnings_1974\"]\n",
    "earning1974"
   ]
  },
  {
   "cell_type": "code",
   "execution_count": 16,
   "metadata": {},
   "outputs": [
    {
     "data": {
      "text/plain": [
       "0        25243.550\n",
       "1         5852.565\n",
       "2        25130.760\n",
       "3        25243.550\n",
       "4        10727.610\n",
       "           ...    \n",
       "15987     6801.435\n",
       "15988    11832.240\n",
       "15989     1559.371\n",
       "15990    11384.660\n",
       "15991    13144.550\n",
       "Name: Earnings_1975, Length: 15992, dtype: float64"
      ]
     },
     "execution_count": 16,
     "metadata": {},
     "output_type": "execute_result"
    }
   ],
   "source": [
    "earning1975 = df[\"Earnings_1975\"]\n",
    "earning1975"
   ]
  },
  {
   "cell_type": "code",
   "execution_count": 17,
   "metadata": {},
   "outputs": [
    {
     "data": {
      "text/plain": [
       "0        25564.670\n",
       "1        13496.080\n",
       "2        25564.670\n",
       "3        25564.670\n",
       "4         9860.869\n",
       "           ...    \n",
       "15987     2757.438\n",
       "15988     6895.072\n",
       "15989     4221.865\n",
       "15990    13671.930\n",
       "15991     7979.724\n",
       "Name: Earnings_1978, Length: 15992, dtype: float64"
      ]
     },
     "execution_count": 17,
     "metadata": {},
     "output_type": "execute_result"
    }
   ],
   "source": [
    "earning1978 = df[\"Earnings_1978\"]\n",
    "earning1978\n"
   ]
  },
  {
   "cell_type": "code",
   "execution_count": 18,
   "metadata": {},
   "outputs": [
    {
     "name": "stdout",
     "output_type": "stream",
     "text": [
      "The percetage of people earning less than 5000 is:  23.89 %\n"
     ]
    }
   ],
   "source": [
    "earings = df[\"Earnings_1978\"]\n",
    "count = 0\n",
    "for earningless5000 in earings:\n",
    "    if earningless5000 < 5000:\n",
    "        count += 1\n",
    "percentile_rank = 100*count/len(earings)\n",
    "print(\"The percetage of people earning less than 5000 is: \", round(percentile_rank, 2),\"%\")\n"
   ]
  },
  {
   "cell_type": "code",
   "execution_count": 19,
   "metadata": {},
   "outputs": [
    {
     "name": "stdout",
     "output_type": "stream",
     "text": [
      "The percetage of people earning 0 is:  13.58 %\n"
     ]
    }
   ],
   "source": [
    "count = 0\n",
    "for earning0 in earings:\n",
    "    if earning0 == 0:\n",
    "        count += 1\n",
    "percentile_rank0 = 100*count/len(earings)\n",
    "print(\"The percetage of people earning 0 is: \", round(percentile_rank0, 2),\"%\")"
   ]
  },
  {
   "cell_type": "code",
   "execution_count": 20,
   "metadata": {},
   "outputs": [
    {
     "name": "stdout",
     "output_type": "stream",
     "text": [
      "The percentage of people earning more than 25000 is:  27.28 %\n"
     ]
    }
   ],
   "source": [
    "count = 0\n",
    "for earningmore26 in earings:\n",
    "    if earningmore26 > 25000:\n",
    "        count += 1\n",
    "percentile_rank26 = 100*count/len(earings)\n",
    "print(\"The percentage of people earning more than 25000 is: \", round(percentile_rank26, 2),\"%\")"
   ]
  },
  {
   "cell_type": "code",
   "execution_count": 21,
   "metadata": {},
   "outputs": [
    {
     "data": {
      "image/png": "[encoded data removed]",
      "text/plain": [
       "<Figure size 432x288 with 1 Axes>"
      ]
     },
     "metadata": {
      "needs_background": "light"
     },
     "output_type": "display_data"
    }
   ],
   "source": [
    "earing1974hist = thinkstats2.Hist(round(earning1974, -3),label=1974)\n",
    "earing1975hist = thinkstats2.Hist(round(earning1975, -3),label=1975)\n",
    "earing1978hist = thinkstats2.Hist(round(earning1978, -3),label=1978)\n",
    "thinkplot.Hist(earing1974hist, align=\"left\")\n",
    "thinkplot.Hist(earing1975hist, align=\"center\")\n",
    "thinkplot.Hist(earing1978hist, align=\"right\")\n",
    "thinkplot.Config(xlabel=\"Earnings\", ylabel=\"count\")"
   ]
  },
  {
   "cell_type": "code",
   "execution_count": 22,
   "metadata": {},
   "outputs": [
    {
     "data": {
      "image/png": "[encoded data removed]",
      "text/plain": [
       "<Figure size 432x288 with 1 Axes>"
      ]
     },
     "metadata": {
      "needs_background": "light"
     },
     "output_type": "display_data"
    },
    {
     "data": {
      "text/plain": [
       "<Figure size 576x432 with 0 Axes>"
      ]
     },
     "metadata": {},
     "output_type": "display_data"
    }
   ],
   "source": [
    "thinkplot.PrePlot\n",
    "earing1974pmf = thinkstats2.Pmf(round(earning1974, -3),label=1974)\n",
    "earing1975pmf = thinkstats2.Pmf(round(earning1975, -3),label=1975)\n",
    "earing1978pmf = thinkstats2.Pmf(round(earning1978, -3),label=1978)\n",
    "thinkplot.Pmf(earing1974pmf, align=\"left\")\n",
    "thinkplot.Pmf(earing1975pmf, align=\"center\")\n",
    "thinkplot.Pmf(earing1978pmf, align=\"right\")\n",
    "thinkplot.Show(xlabel=\"Earnings\", ylabel=\"Percentage\")"
   ]
  },
  {
   "cell_type": "markdown",
   "metadata": {},
   "source": [
    "As a conclusion, there seems to be a large jump in the number of people earning near the top end, around $25k. Otherwise the distributions are pretty similar. "
   ]
  },
  {
   "cell_type": "markdown",
   "metadata": {},
   "source": [
    "Between 1974 to 1978, there are 1/4 people earning less than $5000, and 1/3 people earning more than $25000. Almost half of the people are earning between $5000 and $25000. Also, in 1978 there is increase of people who earns around $25000 compared with other years. From the graph, the people who earn the least and the most are about 1/2 of the sample population. "
   ]
  },
  {
   "cell_type": "markdown",
   "metadata": {},
   "source": [
    "##### What to Investigate Further\n"
   ]
  },
  {
   "cell_type": "markdown",
   "metadata": {},
   "source": [
    "There are over 27% of people earing the same income above $25000. The sample population need to be more wide to include more different variaty of earinings. "
   ]
  },
  {
   "cell_type": "markdown",
   "metadata": {},
   "source": [
    "##### Histogram and PMF"
   ]
  },
  {
   "cell_type": "code",
   "execution_count": 23,
   "metadata": {},
   "outputs": [],
   "source": [
    "#Create a hist, pmf, and stats for 1987 Earnings\n",
    "#Note: if you don't round or otherwise create bins, the thinkstats plots for this will be weird\n",
    "#That's because there are very few values that are the same, e.g. $14762.34, $15672.86, etc... \n",
    "#Every cent is a different value. \n",
    "#Seaborn plots will probably look better by default. "
   ]
  },
  {
   "cell_type": "code",
   "execution_count": 24,
   "metadata": {},
   "outputs": [
    {
     "data": {
      "image/png": "[encoded data removed]",
      "text/plain": [
       "<Figure size 432x288 with 1 Axes>"
      ]
     },
     "metadata": {
      "needs_background": "light"
     },
     "output_type": "display_data"
    }
   ],
   "source": [
    "earing1978hist = thinkstats2.Hist(round(earning1978, -3),label=1978)\n",
    "thinkplot.Hist(earing1978hist)\n",
    "thinkplot.Config(xlabel=\"Earnings\", ylabel=\"count\")"
   ]
  },
  {
   "cell_type": "code",
   "execution_count": 25,
   "metadata": {},
   "outputs": [
    {
     "data": {
      "image/png": "[encoded data removed]",
      "text/plain": [
       "<Figure size 432x288 with 1 Axes>"
      ]
     },
     "metadata": {
      "needs_background": "light"
     },
     "output_type": "display_data"
    },
    {
     "data": {
      "text/plain": [
       "<Figure size 576x432 with 0 Axes>"
      ]
     },
     "metadata": {},
     "output_type": "display_data"
    }
   ],
   "source": [
    "earing1978pmf = thinkstats2.Pmf(round(earning1978, -3))\n",
    "thinkplot.Pmf(earing1978pmf)\n",
    "thinkplot.Show(xlabel=\"Earnings\", ylabel=\"Percentage\")"
   ]
  },
  {
   "cell_type": "markdown",
   "metadata": {},
   "source": [
    "##### Differences in Median Income, and Theory on Why\n"
   ]
  },
  {
   "cell_type": "code",
   "execution_count": 26,
   "metadata": {},
   "outputs": [
    {
     "data": {
      "text/plain": [
       "16421.975"
      ]
     },
     "execution_count": 26,
     "metadata": {},
     "output_type": "execute_result"
    }
   ],
   "source": [
    "earning1978.median()\n"
   ]
  },
  {
   "cell_type": "markdown",
   "metadata": {},
   "source": [
    "The mean of married people (16390.997167012894) is very close to the median of the whole sample population (16421.975)"
   ]
  },
  {
   "cell_type": "code",
   "execution_count": 27,
   "metadata": {},
   "outputs": [
    {
     "name": "stdout",
     "output_type": "stream",
     "text": [
      "                Age         Nodeg  Earnings_1974  Earnings_1975  Earnings_1978\n",
      "count  11382.000000  11382.000000   11382.000000   11382.000000   11382.000000\n",
      "mean      36.316904      0.275698   16582.744206   15980.130164   16390.997167\n",
      "std        9.948024      0.446885    8818.606906    8704.060334    9594.652211\n",
      "min       16.000000      0.000000       0.000000       0.000000       0.000000\n",
      "25%       28.000000      0.000000   10237.660000    9612.689750    8446.316000\n",
      "50%       35.000000      0.000000   18677.690000   17982.895000   19664.850000\n",
      "75%       45.000000      1.000000   25781.500000   24985.740000   25564.670000\n",
      "max       55.000000      1.000000   25862.320000   25243.550000   25564.670000\n",
      "               Age        Nodeg  Earnings_1974  Earnings_1975  Earnings_1978\n",
      "count  4610.000000  4610.000000    4610.000000    4610.000000    4610.000000\n",
      "mean     25.591974     0.345553    7681.534905    7899.741012   11033.720550\n",
      "std       9.849678     0.475600    8325.019159    8038.337295    8669.880629\n",
      "min      16.000000     0.000000       0.000000       0.000000       0.000000\n",
      "25%      18.000000     0.000000     386.465400     963.641100    2965.797500\n",
      "50%      22.000000     0.000000    4325.081500    4950.242000    9982.043000\n",
      "75%      29.000000     1.000000   12987.490000   13198.260000   17812.145000\n",
      "max      55.000000     1.000000   25862.320000   25243.550000   25564.670000\n"
     ]
    }
   ],
   "source": [
    "df_married = df[df[\"MaritalStatus\"] == \"Married\"]\n",
    "df_notmarried = df[df[\"MaritalStatus\"] == \"NotMarried\"]\n",
    "print(df_married.describe())\n",
    "print(df_notmarried.describe())"
   ]
  },
  {
   "cell_type": "code",
   "execution_count": 28,
   "metadata": {},
   "outputs": [
    {
     "name": "stdout",
     "output_type": "stream",
     "text": [
      "               Age        Nodeg  Earnings_1974  Earnings_1975  Earnings_1978\n",
      "count  1176.000000  1176.000000    1176.000000    1176.000000    1176.000000\n",
      "mean     32.664116     0.433673   11426.576987   10941.064806   12006.682951\n",
      "std      10.978134     0.495792    8855.859618    8654.758068    9349.118836\n",
      "min      16.000000     0.000000       0.000000       0.000000       0.000000\n",
      "25%      23.000000     0.000000    2446.634250    2211.943500    2465.217500\n",
      "50%      31.000000     0.000000   11079.650000   10845.775000   12115.880000\n",
      "75%      41.000000     1.000000   18746.262500   18353.937500   20655.290000\n",
      "max      55.000000     1.000000   25862.320000   25243.550000   25564.670000\n",
      "                Age         Nodeg  Earnings_1974  Earnings_1975  Earnings_1978\n",
      "count  14816.000000  14816.000000   14816.000000   14816.000000   14816.000000\n",
      "mean      33.269776      0.284895   14222.395784   13865.885217   15072.078992\n",
      "std       11.049671      0.451380    9594.563625    9283.981035    9635.184976\n",
      "min       16.000000      0.000000       0.000000       0.000000       0.000000\n",
      "25%       24.000000      0.000000    4614.563500    4633.355000    5999.200500\n",
      "50%       31.000000      0.000000   15526.210000   14918.760000   16894.110000\n",
      "75%       42.000000      1.000000   23982.407500   23274.190000   25564.670000\n",
      "max       55.000000      1.000000   25862.320000   25243.550000   25564.670000\n"
     ]
    }
   ],
   "source": [
    "df_black = df[df[\"Race\"] == \"black\"]\n",
    "df_notblack = df[df[\"Race\"] == \"NotBlack\"]\n",
    "print(df_black.describe())\n",
    "print(df_notblack.describe())"
   ]
  },
  {
   "cell_type": "code",
   "execution_count": 29,
   "metadata": {},
   "outputs": [
    {
     "name": "stdout",
     "output_type": "stream",
     "text": [
      "               Age        Nodeg  Earnings_1974  Earnings_1975  Earnings_1978\n",
      "count  1152.000000  1152.000000    1152.000000    1152.000000    1152.000000\n",
      "mean     33.065104     0.535590   12401.663826   12289.613541   13396.677888\n",
      "std      10.942156     0.498948    8829.944260    8537.329633    9023.243588\n",
      "min      16.000000     0.000000       0.000000       0.000000       0.000000\n",
      "25%      25.000000     0.000000    4036.579500    4304.830500    5266.986750\n",
      "50%      32.000000     1.000000   12668.615000   12378.290000   13717.740000\n",
      "75%      41.000000     1.000000   19773.410000   19598.212500   21944.977500\n",
      "max      55.000000     1.000000   25862.320000   25243.550000   25564.670000\n",
      "                Age         Nodeg  Earnings_1974  Earnings_1975  Earnings_1978\n",
      "count  14840.000000  14840.000000   14840.000000   14840.000000   14840.000000\n",
      "mean      33.237668      0.277224   14142.180171   13756.469865   14959.218906\n",
      "std       11.053444      0.447643    9613.783591    9316.852138    9685.372409\n",
      "min       16.000000      0.000000       0.000000       0.000000       0.000000\n",
      "25%       24.000000      0.000000    4431.372000    4410.907500    5719.910500\n",
      "50%       31.000000      0.000000   15374.370000   14803.285000   16717.520000\n",
      "75%       42.000000      1.000000   23929.507500   23172.597500   25564.670000\n",
      "max       55.000000      1.000000   25862.320000   25243.550000   25564.670000\n"
     ]
    }
   ],
   "source": [
    "df_hisp = df[df[\"Hisp\"] == \"hispanic\"]\n",
    "df_nothisp = df[df[\"Hisp\"] == \"NotHispanic\"]\n",
    "print(df_hisp.describe())\n",
    "print(df_nothisp.describe())"
   ]
  },
  {
   "cell_type": "code",
   "execution_count": 34,
   "metadata": {},
   "outputs": [
    {
     "name": "stdout",
     "output_type": "stream",
     "text": [
      "               Age    Nodeg  Earnings_1974  Earnings_1975  Earnings_1978\n",
      "count  11261.00000  11261.0   11261.000000   11261.000000   11261.000000\n",
      "mean      32.85028      0.0   15032.593755   14710.629182   15796.747484\n",
      "std       10.03622      0.0    9441.102389    9211.683067    9753.212109\n",
      "min       17.00000      0.0       0.000000       0.000000       0.000000\n",
      "25%       25.00000      0.0    6146.220000    5977.887000    6895.072000\n",
      "50%       31.00000      0.0   16741.930000   16410.100000   18693.240000\n",
      "75%       40.00000      0.0   25013.960000   24430.740000   25564.670000\n",
      "max       55.00000      0.0   25862.320000   25243.550000   25564.670000\n",
      "               Age   Nodeg  Earnings_1974  Earnings_1975  Earnings_1978\n",
      "count  4731.000000  4731.0    4731.000000    4731.000000    4731.000000\n",
      "mean     34.117734     1.0   11598.949946   11128.144656   12585.205679\n",
      "std      13.096870     0.0    9440.379559    8916.433719    8996.683952\n",
      "min      16.000000     1.0       0.000000       0.000000       0.000000\n",
      "25%      20.000000     1.0    1326.423500    2032.911500    4241.814000\n",
      "50%      35.000000     1.0   11397.050000   10727.610000   12412.900000\n",
      "75%      46.000000     1.0   20143.220000   18873.580000   20807.130000\n",
      "max      55.000000     1.0   25862.320000   25243.550000   25564.670000\n"
     ]
    }
   ],
   "source": [
    "df_node = df[df[\"Nodeg\"] == 0]\n",
    "df_nodeg = df[df[\"Nodeg\"] == 1]\n",
    "print(df_node.describe())\n",
    "print(df_nodeg.describe())"
   ]
  },
  {
   "cell_type": "markdown",
   "metadata": {},
   "source": [
    "By comparing the mean of each category, we can see the mean as following:\n",
    "Marital status: married people - $16390.997167\n",
    "                not married    - $11033.720550\n",
    "Race:   Black people - $12006.682951\n",
    "        Not black    - $15072.078992\n",
    "Nodeg:  With degree - $15796.747484\n",
    "        No degree   - $12585.205679\n",
    "Hispanic:   Hispanic - $13396.677888\n",
    "            Not hisp - $14959.218906\n",
    "The marrital status influence the earning the most, which married people earn a lot more than not married people. Nodeg and Race influence the earning the second, which people with degree earn more than people without degree,the black people earn less than not black people. Hispanic influence the earning the least."
   ]
  },
  {
   "cell_type": "markdown",
   "metadata": {},
   "source": [
    "##### Outliers"
   ]
  },
  {
   "cell_type": "code",
   "execution_count": 31,
   "metadata": {},
   "outputs": [
    {
     "data": {
      "text/plain": [
       "count    15992.000000\n",
       "mean     14846.659673\n",
       "std       9647.391524\n",
       "min          0.000000\n",
       "25%       5669.298000\n",
       "50%      16421.975000\n",
       "75%      25564.670000\n",
       "max      25564.670000\n",
       "Name: Earnings_1978, dtype: float64"
      ]
     },
     "execution_count": 31,
     "metadata": {},
     "output_type": "execute_result"
    }
   ],
   "source": [
    "earning1978.describe()"
   ]
  },
  {
   "cell_type": "code",
   "execution_count": 32,
   "metadata": {},
   "outputs": [
    {
     "name": "stdout",
     "output_type": "stream",
     "text": [
      "The percetage of people earning 0 is:  13.58 %\n"
     ]
    }
   ],
   "source": [
    "count = 0\n",
    "for earning0 in earings:\n",
    "    if earning0 == 0:\n",
    "        count += 1\n",
    "percentile_rank0 = 100*count/len(earings)\n",
    "print(\"The percetage of people earning 0 is: \", round(percentile_rank0, 2),\"%\")"
   ]
  },
  {
   "cell_type": "code",
   "execution_count": 33,
   "metadata": {},
   "outputs": [
    {
     "name": "stdout",
     "output_type": "stream",
     "text": [
      "The percentage of people earning more than 25000 is:  27.28 %\n"
     ]
    }
   ],
   "source": [
    "count = 0\n",
    "for earningmore26 in earings:\n",
    "    if earningmore26 > 25000:\n",
    "        count += 1\n",
    "percentile_rank26 = 100*count/len(earings)\n",
    "print(\"The percentage of people earning more than 25000 is: \", round(percentile_rank26, 2),\"%\")"
   ]
  },
  {
   "cell_type": "markdown",
   "metadata": {},
   "source": [
    "##### Outlier Conclusions\n"
   ]
  },
  {
   "cell_type": "markdown",
   "metadata": {},
   "source": [
    "Even there are 2 peaks on the graph showing people earning $0 and $25000, they are not outliers. Because the percetage of people earning 0 is 13.58 % and the percentage of people earning more than 25000 is 27.28 %. These 2 group of people are over 40% of the sample population. We cannot ignore this much of sample. "
   ]
  }
 ],
 "metadata": {
  "kernelspec": {
   "display_name": "Python 3.9.12 ('base')",
   "language": "python",
   "name": "python3"
  },
  "language_info": {
   "codemirror_mode": {
    "name": "ipython",
    "version": 3
   },
   "file_extension": ".py",
   "mimetype": "text/x-python",
   "name": "python",
   "nbconvert_exporter": "python",
   "pygments_lexer": "ipython3",
   "version": "3.9.12"
  },
  "orig_nbformat": 4,
  "vscode": {
   "interpreter": {
    "hash": "40d3a090f54c6569ab1632332b64b2c03c39dcf918b08424e98f38b5ae0af88f"
   }
  }
 },
 "nbformat": 4,
 "nbformat_minor": 2
}
